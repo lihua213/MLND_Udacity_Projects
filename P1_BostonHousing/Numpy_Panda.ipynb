{
 "cells": [
  {
   "cell_type": "code",
   "execution_count": 17,
   "metadata": {
    "collapsed": true
   },
   "outputs": [],
   "source": [
    "import numpy as np\n",
    "import pandas as pd"
   ]
  },
  {
   "cell_type": "code",
   "execution_count": 4,
   "metadata": {
    "collapsed": false
   },
   "outputs": [
    {
     "name": "stdout",
     "output_type": "stream",
     "text": [
      "3.0\n",
      "3.0\n",
      "1.41421356237\n"
     ]
    }
   ],
   "source": [
    "numbers = [1,2,3,4,5]\n",
    "print np.mean(numbers)\n",
    "print np.median(numbers)\n",
    "print np.std(numbers)\n"
   ]
  },
  {
   "cell_type": "code",
   "execution_count": 5,
   "metadata": {
    "collapsed": false
   },
   "outputs": [
    {
     "name": "stdout",
     "output_type": "stream",
     "text": [
      "[ 1.  4.  5.  8.]\n",
      "\n",
      "[[ 1.  2.  3.]\n",
      " [ 4.  5.  6.]]\n"
     ]
    }
   ],
   "source": [
    "array = np.array([1, 4, 5, 8], float)\n",
    "print array\n",
    "print \"\"\n",
    "array = np.array([[1, 2, 3], [4, 5, 6]], float)  # a 2D array/Matrix\n",
    "print array"
   ]
  },
  {
   "cell_type": "code",
   "execution_count": 6,
   "metadata": {
    "collapsed": false
   },
   "outputs": [
    {
     "name": "stdout",
     "output_type": "stream",
     "text": [
      "[ 1.  4.  5.  8.]\n",
      "\n",
      "4.0\n",
      "\n",
      "[ 1.  4.]\n",
      "\n",
      "5.0\n"
     ]
    }
   ],
   "source": [
    "array = np.array([1, 4, 5, 8], float)\n",
    "print array\n",
    "print \"\"\n",
    "print array[1]\n",
    "print \"\"\n",
    "print array[:2]\n",
    "print \"\"\n",
    "array[1] = 5.0\n",
    "print array[1]"
   ]
  },
  {
   "cell_type": "code",
   "execution_count": 8,
   "metadata": {
    "collapsed": false
   },
   "outputs": [
    {
     "name": "stdout",
     "output_type": "stream",
     "text": [
      "[[ 1.  2.  3.]\n",
      " [ 4.  5.  6.]]\n",
      "\n",
      "5.0\n",
      "\n",
      "[ 4.  5.  6.]\n",
      "\n",
      "[ 3.  6.]\n"
     ]
    }
   ],
   "source": [
    "two_D_array = np.array([[1, 2, 3], [4, 5, 6]], float)\n",
    "print two_D_array\n",
    "print \"\"\n",
    "print two_D_array[1][1]\n",
    "print \"\"\n",
    "print two_D_array[1, :]\n",
    "print \"\"\n",
    "print two_D_array[:, 2]"
   ]
  },
  {
   "cell_type": "code",
   "execution_count": 9,
   "metadata": {
    "collapsed": false
   },
   "outputs": [
    {
     "name": "stdout",
     "output_type": "stream",
     "text": [
      "[ 6.  4.  9.]\n",
      "\n",
      "[-4.  0. -3.]\n",
      "\n",
      "[  5.   4.  18.]\n"
     ]
    }
   ],
   "source": [
    "array_1 = np.array([1, 2, 3], float)\n",
    "array_2 = np.array([5, 2, 6], float)\n",
    "print array_1 + array_2\n",
    "print \"\"\n",
    "print array_1 - array_2\n",
    "print \"\"\n",
    "print array_1 * array_2\n"
   ]
  },
  {
   "cell_type": "code",
   "execution_count": 15,
   "metadata": {
    "collapsed": false
   },
   "outputs": [
    {
     "name": "stdout",
     "output_type": "stream",
     "text": [
      "2.0\n",
      "7.0\n",
      "\n",
      "[ 44.]\n"
     ]
    }
   ],
   "source": [
    "array_1 = np.array([1, 2, 3], float)\n",
    "array_2 = np.array([[6], [7], [8]], float)\n",
    "print np.mean(array_1)\n",
    "print np.mean(array_2)\n",
    "print \"\"\n",
    "print np.dot(array_1, array_2)"
   ]
  },
  {
   "cell_type": "code",
   "execution_count": 23,
   "metadata": {
    "collapsed": false
   },
   "outputs": [
    {
     "name": "stdout",
     "output_type": "stream",
     "text": [
      "\n",
      "   year  wins  losses\n",
      "0  2010    11       5\n",
      "1  2011     8       8\n",
      "2  2012    10       6\n",
      "3  2011    15       1\n",
      "4  2012    11       5\n",
      "5  2010     6      10\n",
      "6  2011    10       6\n",
      "7  2012     4      12\n"
     ]
    }
   ],
   "source": [
    "data = {'year': [2010, 2011, 2012, 2011, 2012, 2010, 2011, 2012],\n",
    "        'team': ['Bears', 'Bears', 'Bears', 'Packers', 'Packers', 'Lions',\n",
    "                    'Lions', 'Lions'],\n",
    "        'wins': [11, 8, 10, 15, 11, 6, 10, 4],\n",
    "        'losses': [5, 8, 6, 1, 5, 10, 6, 12]}\n",
    "football = pd.DataFrame(data)\n",
    "#print football['year']\n",
    "print ''\n",
    "# print football.year  # shorthand for football['year']\n",
    "print football[['year', 'wins', 'losses']]"
   ]
  },
  {
   "cell_type": "code",
   "execution_count": 28,
   "metadata": {
    "collapsed": false
   },
   "outputs": [
    {
     "name": "stdout",
     "output_type": "stream",
     "text": [
      "   losses   team  wins  year\n",
      "1       8  Bears     8  2011\n",
      "\n",
      "   losses   team  wins  year\n",
      "1       8  Bears     8  2011\n",
      "\n",
      "   losses     team  wins  year\n",
      "3       1  Packers    15  2011\n",
      "4       5  Packers    11  2012\n",
      "\n"
     ]
    }
   ],
   "source": [
    "print football.iloc[[1]]\n",
    "print \"\"\n",
    "print football.loc[[1]]\n",
    "print \"\"\n",
    "print football[3:5]\n",
    "print \"\""
   ]
  },
  {
   "cell_type": "code",
   "execution_count": 4,
   "metadata": {
    "collapsed": true
   },
   "outputs": [],
   "source": [
    "from pandas import DataFrame, Series\n",
    "import numpy\n",
    "\n",
    "\n",
    "def avg_medal_count():\n",
    "    '''\n",
    "    Compute the average number of bronze medals earned by countries who \n",
    "    earned at least one gold medal.  \n",
    "    \n",
    "    Save this to a variable named avg_bronze_at_least_one_gold. You do not\n",
    "    need to call the function in your code when running it in the browser -\n",
    "    the grader will do that automatically when you submit or test it.\n",
    "    \n",
    "    HINT-1:\n",
    "    You can retrieve all of the values of a Pandas column from a \n",
    "    data frame, \"df\", as follows:\n",
    "    df['column_name']\n",
    "    \n",
    "    HINT-2:\n",
    "    The numpy.mean function can accept as an argument a single\n",
    "    Pandas column. \n",
    "    \n",
    "    For example, numpy.mean(df[\"col_name\"]) would return the \n",
    "    mean of the values located in \"col_name\" of a dataframe df.\n",
    "    '''\n",
    "\n",
    "\n",
    "    countries = ['Russian Fed.', 'Norway', 'Canada', 'United States',\n",
    "                 'Netherlands', 'Germany', 'Switzerland', 'Belarus',\n",
    "                 'Austria', 'France', 'Poland', 'China', 'Korea', \n",
    "                 'Sweden', 'Czech Republic', 'Slovenia', 'Japan',\n",
    "                 'Finland', 'Great Britain', 'Ukraine', 'Slovakia',\n",
    "                 'Italy', 'Latvia', 'Australia', 'Croatia', 'Kazakhstan']\n",
    "\n",
    "    gold = [13, 11, 10, 9, 8, 8, 6, 5, 4, 4, 4, 3, 3, 2, 2, 2, 1, 1, 1, 1, 1, 0, 0, 0, 0, 0]\n",
    "    silver = [11, 5, 10, 7, 7, 6, 3, 0, 8, 4, 1, 4, 3, 7, 4, 2, 4, 3, 1, 0, 0, 2, 2, 2, 1, 0]\n",
    "    bronze = [9, 10, 5, 12, 9, 5, 2, 1, 5, 7, 1, 2, 2, 6, 2, 4, 3, 1, 2, 1, 0, 6, 2, 1, 0, 1]\n",
    "    \n",
    "    olympic_medal_counts = {'country_name':Series(countries),\n",
    "                            'gold': Series(gold),\n",
    "                            'silver': Series(silver),\n",
    "                            'bronze': Series(bronze)}\n",
    "    df = DataFrame(olympic_medal_counts)\n",
    "    \n",
    "    #print numpy.mean(df['bronze'][df['gold']>=1])\n",
    "    # YOUR CODE HERE\n",
    "    #print df['bronze'][df['gold']>=1]\n",
    "    avg_bronze_at_least_one_gold = numpy.mean(df['bronze'][df['gold']>=1])\n",
    "    \n",
    "    return avg_bronze_at_least_one_gold"
   ]
  },
  {
   "cell_type": "code",
   "execution_count": 5,
   "metadata": {
    "collapsed": false
   },
   "outputs": [
    {
     "data": {
      "text/plain": [
       "4.238095238095238"
      ]
     },
     "execution_count": 5,
     "metadata": {},
     "output_type": "execute_result"
    }
   ],
   "source": [
    "avg_medal_count()"
   ]
  },
  {
   "cell_type": "code",
   "execution_count": null,
   "metadata": {
    "collapsed": true
   },
   "outputs": [],
   "source": [
    ">>> df.apply(numpy.sqrt) # returns DataFrame\n",
    ">>> df.apply(numpy.sum, axis=0) # equiv to df.sum(0)\n",
    ">>> df.apply(numpy.sum, axis=1) # equiv to df.sum(1)\n"
   ]
  }
 ],
 "metadata": {
  "kernelspec": {
   "display_name": "Python 2",
   "language": "python",
   "name": "python2"
  },
  "language_info": {
   "codemirror_mode": {
    "name": "ipython",
    "version": 2
   },
   "file_extension": ".py",
   "mimetype": "text/x-python",
   "name": "python",
   "nbconvert_exporter": "python",
   "pygments_lexer": "ipython2",
   "version": "2.7.11"
  }
 },
 "nbformat": 4,
 "nbformat_minor": 0
}
